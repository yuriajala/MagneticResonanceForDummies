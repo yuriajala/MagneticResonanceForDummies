{
 "cells": [
  {
   "cell_type": "markdown",
   "id": "bb19558b",
   "metadata": {},
   "source": [
    "# Is my question too dumb?\n",
    "No questions are dumb. Learn that and live in peace with yourself.\n",
    "\n",
    "## Why are most medical images black-and-white? Why can't we see the real color of the tissues in X-rays, MRI, or ultrasound?\n",
    "Light is an electromagnetic wave. Our human brain only recognizes a small range of frequencies (or wavelengths) of these waves, which we call the colors or even brightness. \n",
    "\n",
    "X-rays, for example, are way beyond that range and thus do not produce colors, but it burns a film when goes through it making it black or is stopped by, say, a bone, making it transparent or white. When only some X-rays go through, you get a range of grays. MRI is on the other side of the spectrum, using frequencies much lower than visible light (about the same frequency as FM radio), and the conversion from signals to image is totally computerized. In ultrasound there mechanical waves are converted into electrical signals, that do not correspond to the color of the tissues, but to its mechanical properties. You may have seen colorized computer tomography images, showing white bones, red muscles and yellow fat. That is because each tissue absorbs a known amount of rays and a lookup table is used to artificially add color to it.\n",
    "\n",
    "In other words, medical images are mostly black-and-white because they don't work in the spectrum of visible light. Even if they worked, visible light must be reflected by the object you want to look at in order to be seen. Human skin is not transparent, so how would light hit internal organs and be reflected?\n",
    "\n",
    "## If the quantum model of NMR is the most accurate, why do most textbooks stick to the classical model?\n",
    "1. The authors want their books to be read. Sorry, physicists.\n",
    "2. The classical model is very useful when we are not dealing with single particles but a whole macroscopic sample. It allows us to immediatly comprehend and work with concepts like net magnetization, flip angle, and relaxation. "
   ]
  },
  {
   "cell_type": "code",
   "execution_count": null,
   "id": "e003b986",
   "metadata": {},
   "outputs": [],
   "source": []
  }
 ],
 "metadata": {
  "kernelspec": {
   "display_name": "Python 3",
   "language": "python",
   "name": "python3"
  },
  "language_info": {
   "codemirror_mode": {
    "name": "ipython",
    "version": 3
   },
   "file_extension": ".py",
   "mimetype": "text/x-python",
   "name": "python",
   "nbconvert_exporter": "python",
   "pygments_lexer": "ipython3",
   "version": "3.8.8"
  }
 },
 "nbformat": 4,
 "nbformat_minor": 5
}
