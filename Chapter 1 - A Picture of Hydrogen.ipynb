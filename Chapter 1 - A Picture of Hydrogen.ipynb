{
 "cells": [
  {
   "cell_type": "markdown",
   "id": "fa7f404e",
   "metadata": {},
   "source": [
    "# Chapter 1 - A Picture of Hydrogen\n",
    "Nuclear Magnetic Resonance (NMR) is the name of the effect we are going to explore and it is used to obtain images, spectra, or time-domain signals of mainly (but not only) hidrogen-based stuff. Images obtained by NMR became so popular that they received their own name: magnetic resonance imaging, or MRI, a field of NMR. Some also claim that having the word \"nuclear\" in the name when it was first developed was very unattractive as there was a cold war going on in the decades of 70's and 80's. As we are going to see later, there are other fields that explore the very same idea behind it, with more or less complexity levels, such as Sprectroscopy and Relaxometry. You may also come accross some NMR's cousins such as Electron Paramagnetic Resonance (EPR). For now, let's not worry about all these names and stick to NMR and its variations.\n",
    "\n",
    "Consider the very generic image of a human head obtained by MRI as shown below, I just downloaded it from Pinterest. What we are seeing is essentially the levels of hydrogen in each tissue, which allows us to tell them apart. However, hydrogen does not come alone. It is contained in molecules of different sizes such as water and lipids. NMR allows us many ways to explore how we visualize these levels of hydrogen, making tissues made out of larger molecules appear brighter, for example.\n",
    "\n",
    "<img title=\"Head MRI\" alt=\"Head MRI\" src=\"images/head-MRI.jpg\">\n",
    "\n",
    "The proccess to obtain NMR images may seem extremely complex at first. Here is a super brief summary of what happens\n",
    "1. the subject or sample is magnetized as it enter an enormous magnet.\n",
    "2. One or more electromagnetic pulses of precise intensity and duration are sent to the subject (excitation), altering the baseline state of their hydrogen nuclei.\n",
    "3. After the pulses, these nuclei lose energy back to the system (relaxation), which is retrieved by coil-shaped antennas at some time during the process. If you are performing NMR Relaxometry (a.k.a. Time-Domain NMR), you may stop here.\n",
    "4. The signal captured is digitalized and written as a row of a matrix, which later will become the lines of your image. If you are performing NMR Spectroscopy, you do a Fourier transform of the signal and may stop here.\n",
    "5. Repeat steps 3 to 5 with changing the magnetic field a little each time until you have collected a sufficient number of lines (e.g. 512)\n",
    "6. At this point the image is not formed the way we are used to see in MRI yet. To do so, perform a 2-D fourier transform on it and the image of the head will be revealed. \n",
    "\n",
    "How does one come up with such idea? They don't. Like most complex things in science, it's a beautiful puzzle where relatively simple pieces of ideas are connected and layered. Thus, a good way to start this journey is by presenting these simple pieces, not losing track of the full image (otherwise we may get bored very easily) and understanding how they are connected. Smile, after all you have a lot of hydrogen in your body!"
   ]
  },
  {
   "cell_type": "markdown",
   "id": "f4722786",
   "metadata": {},
   "source": [
    "## 1.1 My head is spinning\n",
    "I was never much of a chemistry guy in high school. I had a hard time understanding atomic properties, electron clouds, molecular bounds - I usually ended up the simple question \"so what?\", to which my professors hardly ever could find me practical insights. In the end, I just swallowed that information like a bitter medicine I had to take to enter college. One of the reasons I chose Electrical Engineering was to get as far as I could from chemistry only to have it knocking on my door again years later when I started my studies in NMR. I realized then that those \"so what?\" concepts were actually the answers to the many new \"but how?\" questions that topic arose.\n",
    "\n",
    "Every non-black pixel (the smallest part of an image) you can see in the head MRI above represents some sort of hydrogen density in that area. Black or near-to-black pixels represents really low hydrogen densities, such as the teeth or simply background noise in the air surrounding the subject. Actually, NMR allows us to have such control over hydrogen that two images are presented below: a bright brain tumor and the same tumor, now darker by chaging some imaging parameters acquisition, which we will explore later. It is not just a matter of level/window (a.k.a brightness/contrast). Differently than X-rays where each tissue is defined by the absorbtion of the radiation, on the images below the tumor is always brighter or darker than its surroundings independently of how you cange the image in post processing. That means that these characteristics are inherent to the image acquisition.\n",
    "<table>\n",
    "    <tr>\n",
    "        <td>\n",
    "            <img title=\"Head MRI\" alt=\"Head MRI\" src=\"images/brain-tumour-bright.png\">\n",
    "        </td>\n",
    "        <td>\n",
    "            <img title=\"Head MRI\" alt=\"Head MRI\" src=\"images/brain-tumour-dark.png\">\n",
    "        </td>\n",
    "    </tr>\n",
    "</table>\n",
    "\n",
    "We have been talking about hydrogen densities in tissues, which is not wrong, but it is a limited statement. Even if two tissues have the same densities of hydrogen, they might be identified. Relax, we are gonna cover it in the next section."
   ]
  },
  {
   "cell_type": "code",
   "execution_count": 1,
   "id": "05817230",
   "metadata": {},
   "outputs": [
    {
     "data": {
      "text/plain": [
       "<pyqtgraph.graphicsWindows.ImageWindow at 0x204906e38b0>"
      ]
     },
     "execution_count": 1,
     "metadata": {},
     "output_type": "execute_result"
    }
   ],
   "source": [
    "#run this cell to view the images above in new windows now with window and level controls\n",
    "from PIL import Image\n",
    "from numpy import asarray\n",
    "import pyqtgraph as pg\n",
    "\n",
    "brain_tumour_bright = Image.open('images/brain-tumour-bright.PNG')\n",
    "brain_tumour_dark = Image.open('images/brain-tumour-dark.PNG')\n",
    "# asarray() class is used to convert\n",
    "# PIL images into NumPy arrays\n",
    "matrix_brain_tumour_bright = asarray(brain_tumour_bright)\n",
    "matrix_brain_tumour_dark = asarray(brain_tumour_dark)\n",
    "# show images in new window\n",
    "pg.image(matrix_brain_tumour_bright)\n",
    "pg.image(matrix_brain_tumour_dark)"
   ]
  },
  {
   "cell_type": "markdown",
   "id": "7c80a114",
   "metadata": {},
   "source": [
    "## 1.2 Time to Relax\n",
    "Imagine a slice of pepperoni pizza. When you bring the first piece to your mouth, you expect angels to sing melodic harmonies around you as you as you feel the steamy warm crunchy dough, the melted cheese, and the soft spicy pepperoni. Sorry to crush your idealization, but you soon realize the dough is too hot, the pepperoni is cold and the cheese is no longer melting.\n",
    "\n",
    "When it just came out of the oven, all three elements were equally heated, and if you took a picture of it using a thermal camera, it would look pretty much like the image on the left. If you waited five or ten minutes and took another picture, it would look like the image in the center. Now, if you let it rest for hours, all the ingredients would become in equilibrium with the room temperature and your next thermal picture would look like the image on the left. The only real thermal image is the one in the center, taken by [Brea Souders](https://vsco.co/cyclopedia/journal/thermography \"Brea Souders Thermography\"), the other ones were poorly edited by this writer.\n",
    "<table>\n",
    "    <tr>\n",
    "        <td>\n",
    "            <img title=\"Hot pizza\" alt=\"Hot pizza\" src=\"images/pizza_hot.png\">\n",
    "        </td>\n",
    "        <td>\n",
    "            <img title=\"Warm pizza\" alt=\"Warm pizza\" src=\"images/pizza_warm.jpg\">\n",
    "        </td>\n",
    "        <td>\n",
    "            <img title=\"Cold pizza\" alt=\"Cold pizza\" src=\"images/pizza_cold.png\">\n",
    "        </td>\n",
    "    </tr>\n",
    "</table>\n",
    "\n",
    "That unpleasant experience of eating something partially warm, partially cold happens due to different heat transfer coefficient, i.e. they lose energy at different rates. Our main point is that in thermal photography the elements that make up the pizza are only discernible while they are losing energy and because they do so at different rates. When everything has the same temperature, the ingredients are not distinguishable. oBack to NMR.\n",
    "\n",
    "In NMR we call *relaxation* the process of losing energy back to an equilibrium state. And it happens at different rates for each tissue, even if they have the same density of hydrogen. Recalling the steps of our super brief summary of MRI acquisition, the equilibrium state is step 1, once the sample (which can be a person) enters the magnetic field and their spins are aligned to that field (not exaclty but we'll save the details for later). That is like the pizza slice sitting on the dinner talbe overnight until it is in room temperature. In step two, the sample is energized with electromagnetic pulses and that is equivalent to heating the pizza uniformly, in a process called *excitation*. In step three, we retrieve part of that energy using coils that act like antennas, a process called *reception*. Just like with the thermal images of the pizza, if we start the reception too early or too late, all molecules will have about the same high energy levels resulting in an image with poor contrast. As the relaxation happens at different rates for each molecule, the reception has to happen at a very specific time window after the excitation so that some molecules have lost more energy than other resulting in a good contrast. It is relevant to highlight that choosing the right time in relaxation to start the reception is important (and the basis) for all NMR modalities, with or without image.\n",
    "\n",
    "The three images below show the same brain acquired either too early (everything is bright), at the right time (good contast), or too late (everything is dark). The tricky part here is that there is not really a fixed time to get a good contrast, it will depend on the structures we want to visualize and some knowledge of their *relaxation times*.\n",
    "\n",
    "<table>\n",
    "    <tr>\n",
    "        <td>\n",
    "            <img title=\"Brain-too-bright\" alt=\"Poor contrast: too bright\" src=\"images/brain-too-bright.PNG\">\n",
    "        </td>\n",
    "        <td>\n",
    "            <img title=\"Brain-contrast\" alt=\"Good contrast: bright and dark representing different tissues\" src=\"images/brain-contrast.PNG\">\n",
    "        </td>\n",
    "        <td>\n",
    "            <img title=\"Brain-too-dark\" alt=\"Poor contrast: too dark\" src=\"images/brain-too-dark.PNG\">\n",
    "        </td>\n",
    "    </tr>\n",
    "</table>"
   ]
  },
  {
   "cell_type": "code",
   "execution_count": null,
   "id": "97408bfd",
   "metadata": {},
   "outputs": [],
   "source": []
  }
 ],
 "metadata": {
  "kernelspec": {
   "display_name": "Python 3",
   "language": "python",
   "name": "python3"
  },
  "language_info": {
   "codemirror_mode": {
    "name": "ipython",
    "version": 3
   },
   "file_extension": ".py",
   "mimetype": "text/x-python",
   "name": "python",
   "nbconvert_exporter": "python",
   "pygments_lexer": "ipython3",
   "version": "3.8.8"
  }
 },
 "nbformat": 4,
 "nbformat_minor": 5
}
